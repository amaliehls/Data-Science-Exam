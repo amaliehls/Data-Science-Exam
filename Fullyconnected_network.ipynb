{
  "nbformat": 4,
  "nbformat_minor": 0,
  "metadata": {
    "colab": {
      "name": "datascience_AA.ipynb",
      "provenance": [],
      "collapsed_sections": []
    },
    "kernelspec": {
      "name": "python3",
      "display_name": "Python 3"
    }
  },
  "cells": [
    {
      "cell_type": "markdown",
      "metadata": {
        "id": "vVPKtBvbxAW8",
        "colab_type": "text"
      },
      "source": [
        "# Data Science Exam"
      ]
    },
    {
      "cell_type": "markdown",
      "metadata": {
        "id": "rX2NzQGKHUr5",
        "colab_type": "text"
      },
      "source": [
        "## Fully Connected Feed-forward Neural Network"
      ]
    },
    {
      "cell_type": "markdown",
      "metadata": {
        "id": "jPbVmNvL1_LU",
        "colab_type": "text"
      },
      "source": [
        "## Import modules and libraries"
      ]
    },
    {
      "cell_type": "code",
      "metadata": {
        "id": "iyJ8Tpb9wq-h",
        "colab_type": "code",
        "outputId": "c7c215af-add6-405d-dd17-8f10f32d87bd",
        "colab": {
          "base_uri": "https://localhost:8080/",
          "height": 34
        }
      },
      "source": [
        "import io\n",
        "import itertools\n",
        "import keras\n",
        "import numpy as np\n",
        "import os\n",
        "import pandas as pd\n",
        "import random\n",
        "import sklearn\n",
        "import tensorflow as tf \n",
        "\n",
        "from google.colab import files\n",
        "from pandas import DataFrame\n",
        "from matplotlib import pyplot as plt\n",
        "%matplotlib inline\n",
        "from keras import backend as K\n",
        "from keras import initializers\n",
        "from keras.constraints import maxnorm\n",
        "from keras.layers import Dense, Dropout, Flatten\n",
        "from keras.models import Sequential\n",
        "from keras.optimizers import SGD\n",
        "from keras.regularizers import l1, l2\n",
        "from keras.utils import plot_model\n",
        "from keras.wrappers.scikit_learn import KerasClassifier\n",
        "from sklearn.metrics import confusion_matrix\n",
        "from sklearn.model_selection import GridSearchCV, train_test_split\n",
        "from sklearn.preprocessing import OneHotEncoder, StandardScaler\n"
      ],
      "execution_count": 0,
      "outputs": [
        {
          "output_type": "stream",
          "text": [
            "Using TensorFlow backend.\n"
          ],
          "name": "stderr"
        }
      ]
    },
    {
      "cell_type": "markdown",
      "metadata": {
        "id": "I9ZWKEDO2H3J",
        "colab_type": "text"
      },
      "source": [
        "## Import Data"
      ]
    },
    {
      "cell_type": "code",
      "metadata": {
        "id": "jiO7Xph4xRm2",
        "colab_type": "code",
        "outputId": "cf06e40a-8b43-4ce1-a9e2-5003d4e1fc50",
        "colab": {
          "resources": {
            "http://localhost:8080/nbextensions/google.colab/files.js": {
              "data": "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",
              "ok": true,
              "headers": [
                [
                  "content-type",
                  "application/javascript"
                ]
              ],
              "status": 200,
              "status_text": ""
            }
          },
          "base_uri": "https://localhost:8080/",
          "height": 71
        }
      },
      "source": [
        "uploaded = files.upload()\n"
      ],
      "execution_count": 0,
      "outputs": [
        {
          "output_type": "display_data",
          "data": {
            "text/html": [
              "\n",
              "     <input type=\"file\" id=\"files-d6cd4600-3b32-43e4-93f4-b71af3bfcf26\" name=\"files[]\" multiple disabled />\n",
              "     <output id=\"result-d6cd4600-3b32-43e4-93f4-b71af3bfcf26\">\n",
              "      Upload widget is only available when the cell has been executed in the\n",
              "      current browser session. Please rerun this cell to enable.\n",
              "      </output>\n",
              "      <script src=\"/nbextensions/google.colab/files.js\"></script> "
            ],
            "text/plain": [
              "<IPython.core.display.HTML object>"
            ]
          },
          "metadata": {
            "tags": []
          }
        },
        {
          "output_type": "stream",
          "text": [
            "Saving data.csv to data (1).csv\n"
          ],
          "name": "stdout"
        }
      ]
    },
    {
      "cell_type": "markdown",
      "metadata": {
        "id": "g50xaHTx-c9Y",
        "colab_type": "text"
      },
      "source": [
        "## Create df and plot diagnosis to check if data is balanced"
      ]
    },
    {
      "cell_type": "code",
      "metadata": {
        "id": "ble-MjeQzqn2",
        "colab_type": "code",
        "outputId": "08cd9116-6b5c-4129-b8e0-3aa0be238df8",
        "colab": {
          "base_uri": "https://localhost:8080/",
          "height": 315
        }
      },
      "source": [
        "# Create data frame\n",
        "df = pd.read_csv(io.BytesIO(uploaded['data.csv']))\n",
        "\n",
        "# Plot diagnosis\n",
        "df_diagnosis = df[\"diagnosis\"]\n",
        "df_diagnosis.value_counts().plot(kind='bar', color=plt.cm.Dark2(np.arange(len(df))))\n",
        "df['diagnosis'].value_counts()\n"
      ],
      "execution_count": 0,
      "outputs": [
        {
          "output_type": "execute_result",
          "data": {
            "text/plain": [
              "B    357\n",
              "M    212\n",
              "Name: diagnosis, dtype: int64"
            ]
          },
          "metadata": {
            "tags": []
          },
          "execution_count": 4
        },
        {
          "output_type": "display_data",
          "data": {
            "image/png": "[encoded data removed]",
            "text/plain": [
              "<Figure size 432x288 with 1 Axes>"
            ]
          },
          "metadata": {
            "tags": [],
            "needs_background": "light"
          }
        }
      ]
    },
    {
      "cell_type": "markdown",
      "metadata": {
        "id": "dSXX1RJXKkXb",
        "colab_type": "text"
      },
      "source": [
        "## Prepare the data set"
      ]
    },
    {
      "cell_type": "code",
      "metadata": {
        "id": "mhMuPLHhKnIT",
        "colab_type": "code",
        "colab": {}
      },
      "source": [
        "# Create a data set called input_Data which include all columns of the original data set except ID, diagnosis and Unnamed: 32 which only consists of NaN\n",
        "input_Data = df.drop(columns=['id','diagnosis','Unnamed: 32']) \n",
        "\n",
        "# We also create a data set called result_Data including the diagnosis column coded as 0 for malignant and 1 for benign\n",
        "result_Data = df['diagnosis'].map({'M':0,'B':1})\n",
        "\n",
        "# We use the sklearn's model_selection module (the function train_test_ split()) to divide the data in 70% training, 15% validation and 15% test\n",
        "train_data, test_data_all, train_label, test_label_all = train_test_split(input_Data, result_Data, test_size=0.30)\n",
        "val_data, test_data, val_label, test_label = train_test_split(test_data_all, test_label_all, test_size=0.50)\n",
        "\n",
        "# Standardize the data to z-scores in order to improve accuracy, ensure faster training and meet assumptions of later optimization functions (e.g. regularization)\n",
        "# We use the sklearn preprocessing module (the function StandardScaler)\n",
        "scaler = StandardScaler(copy=True, with_mean=True, with_std=True) # with_mean does centering, with_std does scaling\n",
        "train_data_n = scaler.fit_transform(train_data)\n",
        "val_data_n = scaler.fit_transform(val_data)\n",
        "test_data_n = scaler.fit_transform(test_data)\n",
        "\n",
        "# Concatenate train and val for grid search which automatically do cross validation\n",
        "train_val_data_n = np.concatenate((train_data_n, val_data_n),axis = 0)\n",
        "train_val_label = train_label.append(val_label)\n"
      ],
      "execution_count": 0,
      "outputs": []
    },
    {
      "cell_type": "markdown",
      "metadata": {
        "id": "xKtWbOv5WsmU",
        "colab_type": "text"
      },
      "source": [
        "# The model"
      ]
    },
    {
      "cell_type": "code",
      "metadata": {
        "id": "UG0iASCFvktJ",
        "colab_type": "code",
        "outputId": "6060a6a9-29d4-4d15-e89e-1dbefb2c8844",
        "colab": {
          "base_uri": "https://localhost:8080/",
          "height": 1000
        }
      },
      "source": [
        "scores = []\n",
        "\n",
        "for i in range(100):\n",
        "  batch_size = 32\n",
        "  epochs = 10\n",
        "\n",
        "  # Input dimensions for the first layer layer\n",
        "  input_dim = len(train_data.axes[1])\n",
        "\n",
        "  # Initiate the model \n",
        "  model = Sequential()\n",
        "  model.add(Dense(32, activation='relu', input_shape=(input_dim,))) # dense input layer with 32 output nodes from the layer, relu activation and 30 input nodes\n",
        "  model.add(Dense(32,activation=\"relu\"))\n",
        "  model.add(Dense(1,activation=\"sigmoid\"))\n",
        "\n",
        "  # Use SGD as optimizer as and binary cross-entropy as loss function (because our output or prediction have only two values 0 & 1)\n",
        "  model.compile(\n",
        "    optimizer='SGD',\n",
        "    loss='binary_crossentropy',\n",
        "    metrics=['accuracy']\n",
        "  )\n",
        "\n",
        "\n",
        "  # Fit the model to train data and test it on validation data\n",
        "  model.fit(train_data_n, train_label,\n",
        "            batch_size=batch_size,\n",
        "            epochs=epochs,\n",
        "            verbose=0,\n",
        "            validation_data=(val_data_n, val_label))\n",
        "  score = model.evaluate(test_data_n, test_label, verbose=1)\n",
        "\n",
        "  print(score)\n",
        "  scores.append(score)\n",
        "\n",
        "# Plot model structure\n",
        "plot_model(model, to_file='model_plot.png',show_shapes=True,show_layer_names=True)\n",
        "\n"
      ],
      "execution_count": 0,
      "outputs": [
        {
          "output_type": "stream",
          "text": [
            "86/86 [==============================] - 0s 124us/step\n",
            "[0.28091998710188754, 0.9069767594337463]\n",
            "86/86 [==============================] - 0s 92us/step\n",
            "[0.3129381468129713, 0.9069767594337463]\n",
            "86/86 [==============================] - 0s 113us/step\n",
            "[0.24865107342254283, 0.930232584476471]\n",
            "86/86 [==============================] - 0s 104us/step\n",
            "[0.22029963066411573, 0.930232584476471]\n",
            "86/86 [==============================] - 0s 106us/step\n",
            "[0.2634014861528264, 0.9186046719551086]\n",
            "86/86 [==============================] - 0s 109us/step\n",
            "[0.2522639555986537, 0.9418604373931885]\n",
            "86/86 [==============================] - 0s 107us/step\n",
            "[0.2557751674984777, 0.9186046719551086]\n",
            "86/86 [==============================] - 0s 94us/step\n",
            "[0.27776934171831885, 0.9069767594337463]\n",
            "86/86 [==============================] - 0s 47us/step\n",
            "[0.28208643198013306, 0.930232584476471]\n",
            "86/86 [==============================] - 0s 82us/step\n",
            "[0.2481373714846234, 0.9069767594337463]\n",
            "86/86 [==============================] - 0s 49us/step\n",
            "[0.2527713699396266, 0.9418604373931885]\n",
            "86/86 [==============================] - 0s 43us/step\n",
            "[0.2740162444669147, 0.930232584476471]\n",
            "86/86 [==============================] - 0s 61us/step\n",
            "[0.2201443813567938, 0.930232584476471]\n",
            "86/86 [==============================] - 0s 57us/step\n",
            "[0.43459171611209246, 0.7906976938247681]\n",
            "86/86 [==============================] - 0s 65us/step\n",
            "[0.27830702482267866, 0.9418604373931885]\n",
            "86/86 [==============================] - 0s 67us/step\n",
            "[0.2520126870205236, 0.9186046719551086]\n",
            "86/86 [==============================] - 0s 32us/step\n",
            "[0.25377652464910994, 0.930232584476471]\n",
            "86/86 [==============================] - 0s 32us/step\n",
            "[0.30143311966297237, 0.895348846912384]\n",
            "86/86 [==============================] - 0s 60us/step\n",
            "[0.25904158935990446, 0.9418604373931885]\n",
            "86/86 [==============================] - 0s 61us/step\n",
            "[0.2758220746073612, 0.930232584476471]\n",
            "86/86 [==============================] - 0s 34us/step\n",
            "[0.3421972102897112, 0.9418604373931885]\n",
            "86/86 [==============================] - 0s 65us/step\n",
            "[0.22725116028342135, 0.930232584476471]\n",
            "86/86 [==============================] - 0s 68us/step\n",
            "[0.23102292903634006, 0.9418604373931885]\n",
            "86/86 [==============================] - 0s 67us/step\n",
            "[0.28804199085679166, 0.9069767594337463]\n",
            "86/86 [==============================] - 0s 44us/step\n",
            "[0.3469284904557605, 0.8720930218696594]\n",
            "86/86 [==============================] - 0s 76us/step\n",
            "[0.27362918645836587, 0.9069767594337463]\n",
            "86/86 [==============================] - 0s 70us/step\n",
            "[0.3868546347285426, 0.895348846912384]\n",
            "86/86 [==============================] - 0s 33us/step\n",
            "[0.27419783140337745, 0.9534883499145508]\n",
            "86/86 [==============================] - 0s 70us/step\n",
            "[0.29715937653253244, 0.8837209343910217]\n",
            "86/86 [==============================] - 0s 47us/step\n",
            "[0.2940144275510034, 0.9069767594337463]\n",
            "86/86 [==============================] - 0s 33us/step\n",
            "[0.2519226157388022, 0.930232584476471]\n",
            "86/86 [==============================] - 0s 37us/step\n",
            "[0.23838367018588755, 0.9534883499145508]\n",
            "86/86 [==============================] - 0s 33us/step\n",
            "[0.26928876375043115, 0.9186046719551086]\n",
            "86/86 [==============================] - 0s 65us/step\n",
            "[0.35298611674197883, 0.895348846912384]\n",
            "86/86 [==============================] - 0s 32us/step\n",
            "[0.28835811102113057, 0.9069767594337463]\n",
            "86/86 [==============================] - 0s 66us/step\n",
            "[0.2545471371606339, 0.9418604373931885]\n",
            "86/86 [==============================] - 0s 34us/step\n",
            "[0.2531563272309858, 0.9418604373931885]\n",
            "86/86 [==============================] - 0s 75us/step\n",
            "[0.26251853621283244, 0.930232584476471]\n",
            "86/86 [==============================] - 0s 38us/step\n",
            "[0.22475453033003695, 0.930232584476471]\n",
            "86/86 [==============================] - 0s 74us/step\n",
            "[0.23057692480641742, 0.930232584476471]\n",
            "86/86 [==============================] - 0s 72us/step\n",
            "[0.23090573729470718, 0.9534883499145508]\n",
            "86/86 [==============================] - 0s 50us/step\n",
            "[0.2880327223345291, 0.930232584476471]\n",
            "86/86 [==============================] - 0s 39us/step\n",
            "[0.2437867082135622, 0.9534883499145508]\n",
            "86/86 [==============================] - 0s 66us/step\n",
            "[0.30681200914604717, 0.930232584476471]\n",
            "86/86 [==============================] - 0s 66us/step\n",
            "[0.24056216935778774, 0.9418604373931885]\n",
            "86/86 [==============================] - 0s 63us/step\n",
            "[0.3393651371778444, 0.9186046719551086]\n",
            "86/86 [==============================] - 0s 31us/step\n",
            "[0.20760444361110067, 0.9186046719551086]\n",
            "86/86 [==============================] - 0s 34us/step\n",
            "[0.34221960916075594, 0.9069767594337463]\n",
            "86/86 [==============================] - 0s 44us/step\n",
            "[0.22810205470683964, 0.9418604373931885]\n",
            "86/86 [==============================] - 0s 67us/step\n",
            "[0.27491437349208564, 0.9069767594337463]\n",
            "86/86 [==============================] - 0s 33us/step\n",
            "[0.27851376699846847, 0.9069767594337463]\n",
            "86/86 [==============================] - 0s 37us/step\n",
            "[0.24267578125, 0.9186046719551086]\n",
            "86/86 [==============================] - 0s 51us/step\n",
            "[0.2350668016561242, 0.930232584476471]\n",
            "86/86 [==============================] - 0s 55us/step\n",
            "[0.31335301385369413, 0.930232584476471]\n",
            "86/86 [==============================] - 0s 34us/step\n",
            "[0.3142654369043749, 0.8837209343910217]\n",
            "86/86 [==============================] - 0s 42us/step\n",
            "[0.2859734969083653, 0.930232584476471]\n",
            "86/86 [==============================] - 0s 61us/step\n",
            "[0.27688844675241514, 0.930232584476471]\n",
            "86/86 [==============================] - 0s 41us/step\n",
            "[0.259760273057361, 0.9186046719551086]\n",
            "86/86 [==============================] - 0s 86us/step\n",
            "[0.24224901337956273, 0.9186046719551086]\n",
            "86/86 [==============================] - 0s 35us/step\n",
            "[0.33099983182064324, 0.930232584476471]\n",
            "86/86 [==============================] - 0s 33us/step\n",
            "[0.27983367651007895, 0.895348846912384]\n",
            "86/86 [==============================] - 0s 66us/step\n",
            "[0.2703898341156716, 0.9418604373931885]\n",
            "86/86 [==============================] - 0s 68us/step\n",
            "[0.30798068365385367, 0.9186046719551086]\n",
            "86/86 [==============================] - 0s 34us/step\n",
            "[0.2879852160464886, 0.9069767594337463]\n",
            "86/86 [==============================] - 0s 72us/step\n",
            "[0.23447603611058968, 0.930232584476471]\n",
            "86/86 [==============================] - 0s 33us/step\n",
            "[0.31099637095318283, 0.9186046719551086]\n",
            "86/86 [==============================] - 0s 67us/step\n",
            "[0.2575886291126872, 0.9418604373931885]\n",
            "86/86 [==============================] - 0s 34us/step\n",
            "[0.2824477650398432, 0.9186046719551086]\n",
            "86/86 [==============================] - 0s 68us/step\n",
            "[0.2705101551011551, 0.9186046719551086]\n",
            "86/86 [==============================] - 0s 35us/step\n",
            "[0.27195441722869873, 0.895348846912384]\n",
            "86/86 [==============================] - 0s 34us/step\n",
            "[0.26213414793790774, 0.9418604373931885]\n",
            "86/86 [==============================] - 0s 36us/step\n",
            "[0.3181957754977914, 0.9186046719551086]\n",
            "86/86 [==============================] - 0s 66us/step\n",
            "[0.2531285022580346, 0.9418604373931885]\n",
            "86/86 [==============================] - 0s 65us/step\n",
            "[0.2572005093097687, 0.9418604373931885]\n",
            "86/86 [==============================] - 0s 34us/step\n",
            "[0.25442118908083716, 0.9418604373931885]\n",
            "86/86 [==============================] - 0s 67us/step\n",
            "[0.25108209598896114, 0.9418604373931885]\n",
            "86/86 [==============================] - 0s 40us/step\n",
            "[0.3482025487478389, 0.8604651093482971]\n",
            "86/86 [==============================] - 0s 64us/step\n",
            "[0.28186361387718556, 0.930232584476471]\n",
            "86/86 [==============================] - 0s 97us/step\n",
            "[0.2555558092372362, 0.895348846912384]\n",
            "86/86 [==============================] - 0s 60us/step\n",
            "[0.2936075863450073, 0.9186046719551086]\n",
            "86/86 [==============================] - 0s 64us/step\n",
            "[0.30167242746020473, 0.9186046719551086]\n",
            "86/86 [==============================] - 0s 69us/step\n",
            "[0.3133006518663362, 0.895348846912384]\n",
            "86/86 [==============================] - 0s 32us/step\n",
            "[0.2755046736362369, 0.930232584476471]\n",
            "86/86 [==============================] - 0s 70us/step\n",
            "[0.37553089371947357, 0.8837209343910217]\n",
            "86/86 [==============================] - 0s 43us/step\n",
            "[0.2447693528130997, 0.930232584476471]\n",
            "86/86 [==============================] - 0s 34us/step\n",
            "[0.33811219902925715, 0.9069767594337463]\n",
            "86/86 [==============================] - 0s 68us/step\n",
            "[0.22651838355286177, 0.9534883499145508]\n",
            "86/86 [==============================] - 0s 36us/step\n",
            "[0.2885886839655943, 0.9651162624359131]\n",
            "86/86 [==============================] - 0s 34us/step\n",
            "[0.34694813295852306, 0.895348846912384]\n",
            "86/86 [==============================] - 0s 73us/step\n",
            "[0.32453990744989974, 0.9069767594337463]\n",
            "86/86 [==============================] - 0s 34us/step\n",
            "[0.28908896654151206, 0.9186046719551086]\n",
            "86/86 [==============================] - 0s 41us/step\n",
            "[0.2116441532622936, 0.9534883499145508]\n",
            "86/86 [==============================] - 0s 72us/step\n",
            "[0.2701284414113954, 0.930232584476471]\n",
            "86/86 [==============================] - 0s 36us/step\n",
            "[0.30661663135816886, 0.9186046719551086]\n",
            "86/86 [==============================] - 0s 46us/step\n",
            "[0.2701614325822786, 0.9418604373931885]\n",
            "86/86 [==============================] - 0s 48us/step\n",
            "[0.3507499473039494, 0.8604651093482971]\n",
            "86/86 [==============================] - 0s 93us/step\n",
            "[0.25800066423970597, 0.930232584476471]\n",
            "86/86 [==============================] - 0s 45us/step\n",
            "[0.28390381225319794, 0.930232584476471]\n",
            "86/86 [==============================] - 0s 115us/step\n",
            "[0.27127222682154456, 0.9418604373931885]\n",
            "86/86 [==============================] - 0s 69us/step\n",
            "[0.32400968462921853, 0.930232584476471]\n"
          ],
          "name": "stdout"
        },
        {
          "output_type": "execute_result",
          "data": {
            "image/png": "[encoded data removed]",
            "text/plain": [
              "<IPython.core.display.Image object>"
            ]
          },
          "metadata": {
            "tags": []
          },
          "execution_count": 6
        }
      ]
    },
    {
      "cell_type": "code",
      "metadata": {
        "id": "XRrp3c_2wFMJ",
        "colab_type": "code",
        "outputId": "8a65a460-619f-4bd4-aa31-36ce0ff94026",
        "colab": {
          "base_uri": "https://localhost:8080/",
          "height": 85
        }
      },
      "source": [
        "# Print accuracies and losses\n",
        "accuracies = []\n",
        "for i in range(len(scores)):\n",
        "  accuracies.append(scores[i][1])\n",
        "\n",
        "losses = []\n",
        "for i in range(len(scores)):\n",
        "  losses.append(scores[i][0])\n",
        "\n",
        "print(\"mean accuracy: \" + str(np.mean(accuracies)))\n",
        "print(\"SD accuracy: \" + str(np.std(accuracies)))\n",
        "print(\"mean loss: \" + str(np.mean(losses)))\n",
        "print(\"SD loss: \" + str(np.std(losses)))\n"
      ],
      "execution_count": 0,
      "outputs": [
        {
          "output_type": "stream",
          "text": [
            "mean accuracy: 0.9212790769338608\n",
            "SD accuracy: 0.024047842473446275\n",
            "mean loss: 0.2793461595129135\n",
            "SD loss: 0.0404688073009442\n"
          ],
          "name": "stdout"
        }
      ]
    },
    {
      "cell_type": "markdown",
      "metadata": {
        "id": "0cUlNVtp12AH",
        "colab_type": "text"
      },
      "source": [
        "## Confusion matrix"
      ]
    },
    {
      "cell_type": "code",
      "metadata": {
        "id": "sc3W2zlq71TF",
        "colab_type": "code",
        "outputId": "cc01a053-90fe-4581-e892-b2d720f04332",
        "colab": {
          "base_uri": "https://localhost:8080/",
          "height": 362
        }
      },
      "source": [
        "# Get predictions from model on validation data\n",
        "rounded_predictions = model.predict_classes(x=val_data_n, batch_size=10, verbose=0)\n",
        "\n",
        "# Create confusion matrix\n",
        "cm = confusion_matrix(y_true=val_label, y_pred=rounded_predictions)\n",
        "\n",
        "# Define plot function\n",
        "def plot_confusion_matrix(cm, classes,\n",
        "    normalize=False,\n",
        "    title='Confusion matrix',\n",
        "    cmap=plt.cm.Blues):\n",
        "    \"\"\"\n",
        "    This function is from https://deeplizard.com/learn/video/km7pxKy4UHU. \n",
        "    It prints and plots the confusion matrix.\n",
        "    \"\"\"\n",
        "    plt.imshow(cm, interpolation='nearest', cmap=cmap)\n",
        "    plt.title(title)\n",
        "    plt.colorbar()\n",
        "    tick_marks = np.arange(len(classes))\n",
        "    plt.xticks(tick_marks, classes, rotation=45)\n",
        "    plt.yticks(tick_marks, classes)\n",
        "\n",
        "    if normalize:\n",
        "        cm = cm.astype('float') / cm.sum(axis=1)[:, np.newaxis]\n",
        "        print(\"Normalized confusion matrix\")\n",
        "    else:\n",
        "        print('Confusion matrix, without normalization')\n",
        "\n",
        "    print(cm)\n",
        "\n",
        "    thresh = cm.max() / 2.\n",
        "    for i, j in itertools.product(range(cm.shape[0]), range(cm.shape[1])):\n",
        "        plt.text(j, i, cm[i, j],\n",
        "                 horizontalalignment=\"center\",\n",
        "                 color=\"white\" if cm[i, j] > thresh else \"black\")\n",
        "\n",
        "    plt.tight_layout()\n",
        "    plt.ylabel('True label')\n",
        "    plt.xlabel('Predicted label')\n",
        "\n",
        "cm_plot_labels = ['no_cancer','cancer']\n",
        "\n",
        "# Plot confusion matrix\n",
        "plot_confusion_matrix(cm=cm, classes=cm_plot_labels, title='Confusion Matrix')"
      ],
      "execution_count": 0,
      "outputs": [
        {
          "output_type": "stream",
          "text": [
            "Confusion matrix, without normalization\n",
            "[[34  4]\n",
            " [ 0 47]]\n"
          ],
          "name": "stdout"
        },
        {
          "output_type": "display_data",
          "data": {
            "image/png": "[encoded data removed]",
            "text/plain": [
              "<Figure size 432x288 with 2 Axes>"
            ]
          },
          "metadata": {
            "tags": [],
            "needs_background": "light"
          }
        }
      ]
    },
    {
      "cell_type": "markdown",
      "metadata": {
        "id": "c_5J4fbs1eTR",
        "colab_type": "text"
      },
      "source": [
        "## Grid Search for best mini batch size and epochs"
      ]
    },
    {
      "cell_type": "code",
      "metadata": {
        "id": "qVNSmNtk1ctR",
        "colab_type": "code",
        "outputId": "63fa511b-cee7-4ffb-9e32-f9f83b34ba61",
        "colab": {
          "base_uri": "https://localhost:8080/",
          "height": 1000
        }
      },
      "source": [
        "# Function to create model\n",
        "def create_model():\n",
        "\t\"\"\"\n",
        "  This function is from https://machinelearningmastery.com/grid-search-hyperparameters-deep-learning-models-python-keras/.\n",
        "  It creates and compiles a Keras model to grid search mini batch size and epochs.\n",
        "  \"\"\"\n",
        "\t# Create model\n",
        "\tmodel = Sequential()\n",
        "\tmodel.add(Dense(32, activation='relu', input_shape=(input_dim,)))\n",
        "\tmodel.add(Dense(32,activation=\"relu\"))\n",
        "\tmodel.add(Dense(1,activation=\"sigmoid\"))\n",
        "\t\n",
        "\t# Compile model\n",
        "\tmodel.compile(\n",
        "  optimizer='SGD', \n",
        "\tloss='binary_crossentropy', \n",
        "\tmetrics=['accuracy']\n",
        "\t)\n",
        "\treturn model\n",
        "\n",
        "# Create model\n",
        "model = KerasClassifier(build_fn=create_model, verbose=1)\n",
        "\n",
        "# Define the grid search parameters\n",
        "batch_size = [5, 10, 30, 50, 60, 75]\n",
        "epochs = [10, 50, 100]\n",
        "param_grid = dict(batch_size=batch_size, epochs=epochs)\n",
        "grid = GridSearchCV(estimator=model, param_grid=param_grid, n_jobs=-1, cv=3)\n",
        "grid_result = grid.fit(train_val_data_n, train_val_label)\n",
        "\n",
        "# Summarize results\n",
        "print(\"Best: %f using %s\" % (grid_result.best_score_, grid_result.best_params_))\n",
        "means = grid_result.cv_results_['mean_test_score']\n",
        "stds = grid_result.cv_results_['std_test_score']\n",
        "params = grid_result.cv_results_['params']\n",
        "for mean, stdev, param in zip(means, stds, params):\n",
        "    print(\"%f (%f) with: %r\" % (mean, stdev, param))\n"
      ],
      "execution_count": 0,
      "outputs": [
        {
          "output_type": "stream",
          "text": [
            "Epoch 1/50\n",
            "483/483 [==============================] - 0s 338us/step - loss: 0.5161 - accuracy: 0.7950\n",
            "Epoch 2/50\n",
            "483/483 [==============================] - 0s 207us/step - loss: 0.2747 - accuracy: 0.9275\n",
            "Epoch 3/50\n",
            "483/483 [==============================] - 0s 206us/step - loss: 0.1914 - accuracy: 0.9482\n",
            "Epoch 4/50\n",
            "483/483 [==============================] - 0s 214us/step - loss: 0.1528 - accuracy: 0.9524\n",
            "Epoch 5/50\n",
            "483/483 [==============================] - 0s 210us/step - loss: 0.1306 - accuracy: 0.9586\n",
            "Epoch 6/50\n",
            "483/483 [==============================] - 0s 231us/step - loss: 0.1156 - accuracy: 0.9627\n",
            "Epoch 7/50\n",
            "483/483 [==============================] - 0s 215us/step - loss: 0.1048 - accuracy: 0.9648\n",
            "Epoch 8/50\n",
            "483/483 [==============================] - 0s 212us/step - loss: 0.0967 - accuracy: 0.9648\n",
            "Epoch 9/50\n",
            "483/483 [==============================] - 0s 217us/step - loss: 0.0903 - accuracy: 0.9752\n",
            "Epoch 10/50\n",
            "483/483 [==============================] - 0s 208us/step - loss: 0.0850 - accuracy: 0.9752\n",
            "Epoch 11/50\n",
            "483/483 [==============================] - 0s 222us/step - loss: 0.0805 - accuracy: 0.9793\n",
            "Epoch 12/50\n",
            "483/483 [==============================] - 0s 205us/step - loss: 0.0765 - accuracy: 0.9793\n",
            "Epoch 13/50\n",
            "483/483 [==============================] - 0s 216us/step - loss: 0.0733 - accuracy: 0.9814\n",
            "Epoch 14/50\n",
            "483/483 [==============================] - 0s 204us/step - loss: 0.0703 - accuracy: 0.9814\n",
            "Epoch 15/50\n",
            "483/483 [==============================] - 0s 209us/step - loss: 0.0676 - accuracy: 0.9814\n",
            "Epoch 16/50\n",
            "483/483 [==============================] - 0s 209us/step - loss: 0.0653 - accuracy: 0.9834\n",
            "Epoch 17/50\n",
            "483/483 [==============================] - 0s 210us/step - loss: 0.0632 - accuracy: 0.9834\n",
            "Epoch 18/50\n",
            "483/483 [==============================] - 0s 220us/step - loss: 0.0613 - accuracy: 0.9814\n",
            "Epoch 19/50\n",
            "483/483 [==============================] - 0s 210us/step - loss: 0.0593 - accuracy: 0.9834\n",
            "Epoch 20/50\n",
            "483/483 [==============================] - 0s 203us/step - loss: 0.0576 - accuracy: 0.9855\n",
            "Epoch 21/50\n",
            "483/483 [==============================] - 0s 225us/step - loss: 0.0560 - accuracy: 0.9855\n",
            "Epoch 22/50\n",
            "483/483 [==============================] - 0s 210us/step - loss: 0.0545 - accuracy: 0.9855\n",
            "Epoch 23/50\n",
            "483/483 [==============================] - 0s 209us/step - loss: 0.0531 - accuracy: 0.9855\n",
            "Epoch 24/50\n",
            "483/483 [==============================] - 0s 215us/step - loss: 0.0519 - accuracy: 0.9855\n",
            "Epoch 25/50\n",
            "483/483 [==============================] - 0s 211us/step - loss: 0.0505 - accuracy: 0.9855\n",
            "Epoch 26/50\n",
            "483/483 [==============================] - 0s 241us/step - loss: 0.0492 - accuracy: 0.9855\n",
            "Epoch 27/50\n",
            "483/483 [==============================] - 0s 211us/step - loss: 0.0479 - accuracy: 0.9855\n",
            "Epoch 28/50\n",
            "483/483 [==============================] - 0s 213us/step - loss: 0.0468 - accuracy: 0.9855\n",
            "Epoch 29/50\n",
            "483/483 [==============================] - 0s 209us/step - loss: 0.0456 - accuracy: 0.9855\n",
            "Epoch 30/50\n",
            "483/483 [==============================] - 0s 212us/step - loss: 0.0446 - accuracy: 0.9876\n",
            "Epoch 31/50\n",
            "483/483 [==============================] - 0s 211us/step - loss: 0.0435 - accuracy: 0.9855\n",
            "Epoch 32/50\n",
            "483/483 [==============================] - 0s 215us/step - loss: 0.0424 - accuracy: 0.9855\n",
            "Epoch 33/50\n",
            "483/483 [==============================] - 0s 207us/step - loss: 0.0414 - accuracy: 0.9876\n",
            "Epoch 34/50\n",
            "483/483 [==============================] - 0s 219us/step - loss: 0.0404 - accuracy: 0.9876\n",
            "Epoch 35/50\n",
            "483/483 [==============================] - 0s 210us/step - loss: 0.0395 - accuracy: 0.9876\n",
            "Epoch 36/50\n",
            "483/483 [==============================] - 0s 216us/step - loss: 0.0387 - accuracy: 0.9876\n",
            "Epoch 37/50\n",
            "483/483 [==============================] - 0s 211us/step - loss: 0.0377 - accuracy: 0.9876\n",
            "Epoch 38/50\n",
            "483/483 [==============================] - 0s 226us/step - loss: 0.0369 - accuracy: 0.9876\n",
            "Epoch 39/50\n",
            "483/483 [==============================] - 0s 212us/step - loss: 0.0360 - accuracy: 0.9876\n",
            "Epoch 40/50\n",
            "483/483 [==============================] - 0s 224us/step - loss: 0.0352 - accuracy: 0.9876\n",
            "Epoch 41/50\n",
            "483/483 [==============================] - 0s 231us/step - loss: 0.0345 - accuracy: 0.9876\n",
            "Epoch 42/50\n",
            "483/483 [==============================] - 0s 207us/step - loss: 0.0338 - accuracy: 0.9876\n",
            "Epoch 43/50\n",
            "483/483 [==============================] - 0s 207us/step - loss: 0.0330 - accuracy: 0.9876\n",
            "Epoch 44/50\n",
            "483/483 [==============================] - 0s 209us/step - loss: 0.0322 - accuracy: 0.9876\n",
            "Epoch 45/50\n",
            "483/483 [==============================] - 0s 219us/step - loss: 0.0314 - accuracy: 0.9876\n",
            "Epoch 46/50\n",
            "483/483 [==============================] - 0s 211us/step - loss: 0.0310 - accuracy: 0.9876\n",
            "Epoch 47/50\n",
            "483/483 [==============================] - 0s 221us/step - loss: 0.0303 - accuracy: 0.9876\n",
            "Epoch 48/50\n",
            "483/483 [==============================] - 0s 208us/step - loss: 0.0296 - accuracy: 0.9896\n",
            "Epoch 49/50\n",
            "483/483 [==============================] - 0s 247us/step - loss: 0.0290 - accuracy: 0.9917\n",
            "Epoch 50/50\n",
            "483/483 [==============================] - 0s 227us/step - loss: 0.0284 - accuracy: 0.9896\n",
            "Best: 0.983437 using {'batch_size': 5, 'epochs': 50}\n",
            "0.958592 (0.017810) with: {'batch_size': 5, 'epochs': 10}\n",
            "0.983437 (0.005856) with: {'batch_size': 5, 'epochs': 50}\n",
            "0.979296 (0.011712) with: {'batch_size': 5, 'epochs': 100}\n",
            "0.948240 (0.015493) with: {'batch_size': 10, 'epochs': 10}\n",
            "0.975155 (0.008784) with: {'batch_size': 10, 'epochs': 50}\n",
            "0.975155 (0.008784) with: {'batch_size': 10, 'epochs': 100}\n",
            "0.908903 (0.019200) with: {'batch_size': 30, 'epochs': 10}\n",
            "0.950311 (0.026352) with: {'batch_size': 30, 'epochs': 50}\n",
            "0.973085 (0.007747) with: {'batch_size': 30, 'epochs': 100}\n",
            "0.910973 (0.023424) with: {'batch_size': 50, 'epochs': 10}\n",
            "0.935818 (0.015493) with: {'batch_size': 50, 'epochs': 50}\n",
            "0.975155 (0.005071) with: {'batch_size': 50, 'epochs': 100}\n",
            "0.913043 (0.028236) with: {'batch_size': 60, 'epochs': 10}\n",
            "0.942029 (0.017810) with: {'batch_size': 60, 'epochs': 50}\n",
            "0.954451 (0.020496) with: {'batch_size': 60, 'epochs': 100}\n",
            "0.871636 (0.052049) with: {'batch_size': 75, 'epochs': 10}\n",
            "0.946170 (0.011712) with: {'batch_size': 75, 'epochs': 50}\n",
            "0.958592 (0.015493) with: {'batch_size': 75, 'epochs': 100}\n"
          ],
          "name": "stdout"
        }
      ]
    },
    {
      "cell_type": "markdown",
      "metadata": {
        "id": "OkVTPTSFEed_",
        "colab_type": "text"
      },
      "source": [
        "## Grid search for momentum and learning rate"
      ]
    },
    {
      "cell_type": "code",
      "metadata": {
        "id": "EAfEmLTE-esu",
        "colab_type": "code",
        "colab": {}
      },
      "source": [
        "# Function to create model\n",
        "def create_model(learn_rate=0.01, momentum=0):\n",
        "\t\"\"\"\n",
        "  This function is from https://machinelearningmastery.com/grid-search-hyperparameters-deep-learning-models-python-keras/.\n",
        "  It creates and compiles a Keras model to grid search momentum and learning rate\n",
        "  \"\"\"\n",
        "  # Create model\n",
        "\tmodel = Sequential()\n",
        "\tmodel.add(Dense(32, activation='relu', input_shape=(input_dim,)))\n",
        "\tmodel.add(Dense(32,activation=\"relu\"))\n",
        "\tmodel.add(Dense(1,activation=\"sigmoid\"))\n",
        "\t\n",
        "\t# Compile model\n",
        "\tmodel.compile(\n",
        "  optimizer = SGD(lr=learn_rate, momentum=momentum), \n",
        "\tloss='binary_crossentropy', \n",
        "\tmetrics=['accuracy']\n",
        "\t)\n",
        "\treturn model\n",
        "\n",
        "# Create model\n",
        "model = KerasClassifier(build_fn=create_model, epochs=100, batch_size=10, verbose=1)\n",
        "\n",
        "# Define the grid search parameters\n",
        "learn_rate = [0.001, 0.01, 0.1, 0.2, 0.3]\n",
        "momentum = [0.0, 0.2, 0.4, 0.6, 0.8, 0.9]\n",
        "param_grid = dict(learn_rate=learn_rate, momentum=momentum)\n",
        "grid = GridSearchCV(estimator=model, param_grid=param_grid, n_jobs=-1, cv=3)\n",
        "grid_result = grid.fit(train_val_data_n, train_val_label)\n",
        "\n",
        "# Summarize results\n",
        "print(\"Best: %f using %s\" % (grid_result.best_score_, grid_result.best_params_))\n",
        "means = grid_result.cv_results_['mean_test_score']\n",
        "stds = grid_result.cv_results_['std_test_score']\n",
        "params = grid_result.cv_results_['params']\n",
        "for mean, stdev, param in zip(means, stds, params):\n",
        "    print(\"%f (%f) with: %r\" % (mean, stdev, param))"
      ],
      "execution_count": 0,
      "outputs": []
    },
    {
      "cell_type": "markdown",
      "metadata": {
        "id": "eKatiM-lAqvg",
        "colab_type": "text"
      },
      "source": [
        "## Weight initialization"
      ]
    },
    {
      "cell_type": "code",
      "metadata": {
        "id": "IsNrpYYEBELM",
        "colab_type": "code",
        "colab": {}
      },
      "source": [
        "# Function to create model\n",
        "def create_model(init_mode='uniform'):\n",
        "\t\"\"\"\n",
        "  This function is from https://machinelearningmastery.com/grid-search-hyperparameters-deep-learning-models-python-keras/.\n",
        "  It creates and compiles a Keras model to grid search weight initialization\n",
        "  \"\"\"\n",
        "  # Create model\n",
        "\tmodel = Sequential()\n",
        "\tmodel.add(Dense(32, activation='relu', kernel_initializer=init_mode, input_shape=(input_dim,)))\n",
        "\tmodel.add(Dense(32,activation='relu',kernel_initializer=init_mode))\n",
        "\tmodel.add(Dense(1,activation=\"sigmoid\",kernel_initializer=init_mode))\n",
        "\t\n",
        "\t# Compile model\n",
        "\tmodel.compile(\n",
        "  optimizer = SGD(lr=0.2, momentum=0.4), \n",
        "\tloss='binary_crossentropy', \n",
        "\tmetrics=['accuracy']\n",
        "\t)\n",
        "\treturn model\n",
        "\n",
        "# Create model\n",
        "model = KerasClassifier(build_fn=create_model, epochs=100, batch_size=10, verbose=1)\n",
        "\n",
        "# Define the grid search parameters\n",
        "init_mode = ['uniform', 'lecun_uniform', 'normal', 'zero', 'glorot_normal', 'glorot_uniform', 'he_normal', 'he_uniform']\n",
        "param_grid = dict(init_mode=init_mode)\n",
        "grid = GridSearchCV(estimator=model, param_grid=param_grid, n_jobs=-1, cv=3)\n",
        "grid_result = grid.fit(train_val_data_n, train_val_label)\n",
        "\n",
        "# Summarize results\n",
        "print(\"Best: %f using %s\" % (grid_result.best_score_, grid_result.best_params_))\n",
        "means = grid_result.cv_results_['mean_test_score']\n",
        "stds = grid_result.cv_results_['std_test_score']\n",
        "params = grid_result.cv_results_['params']\n",
        "for mean, stdev, param in zip(means, stds, params):\n",
        "    print(\"%f (%f) with: %r\" % (mean, stdev, param))"
      ],
      "execution_count": 0,
      "outputs": []
    },
    {
      "cell_type": "markdown",
      "metadata": {
        "id": "oczMksKzG9pb",
        "colab_type": "text"
      },
      "source": [
        "## Grid search for best neuron activation function (hidden layer)"
      ]
    },
    {
      "cell_type": "code",
      "metadata": {
        "id": "pt4TkRwZHB9-",
        "colab_type": "code",
        "colab": {}
      },
      "source": [
        "# Function to create model\n",
        "def create_model(activation='relu'):\n",
        "\t\"\"\"\n",
        "  This function is from https://machinelearningmastery.com/grid-search-hyperparameters-deep-learning-models-python-keras/.\n",
        "  It creates and compiles a Keras model to grid search activation functions.\n",
        "  \"\"\"\n",
        "  # Create model\n",
        "\tmodel = Sequential()\n",
        "\tmodel.add(Dense(32, activation=activation, input_shape=(input_dim,), kernel_initializer='he_normal'))\n",
        "\tmodel.add(Dense(32,activation=activation, kernel_initializer = 'he_normal'))\n",
        "\tmodel.add(Dense(1,kernel_initializer = 'he_normal',activation=\"sigmoid\"))\n",
        "\t\n",
        "\t# Compile model\n",
        "\tmodel.compile(\n",
        "  optimizer = SGD(lr=0.2, momentum=0.4), \n",
        "\tloss='binary_crossentropy', \n",
        "\tmetrics=['accuracy']\n",
        "\t)\n",
        "\treturn model\n",
        "\n",
        "# Create model\n",
        "model = KerasClassifier(build_fn=create_model, epochs=100, batch_size=10, verbose=1)\n",
        "\n",
        "# Define the grid search parameters\n",
        "activation = ['softmax', 'softplus', 'softsign', 'relu', 'tanh', 'sigmoid', 'hard_sigmoid', 'linear']\n",
        "param_grid = dict(activation=activation)\n",
        "grid = GridSearchCV(estimator=model, param_grid=param_grid, n_jobs=-1, cv=3)\n",
        "grid_result = grid.fit(train_val_data_n, train_val_label)\n",
        "\n",
        "# Summarize results\n",
        "print(\"Best: %f using %s\" % (grid_result.best_score_, grid_result.best_params_))\n",
        "means = grid_result.cv_results_['mean_test_score']\n",
        "stds = grid_result.cv_results_['std_test_score']\n",
        "params = grid_result.cv_results_['params']\n",
        "for mean, stdev, param in zip(means, stds, params):\n",
        "    print(\"%f (%f) with: %r\" % (mean, stdev, param))"
      ],
      "execution_count": 0,
      "outputs": []
    },
    {
      "cell_type": "markdown",
      "metadata": {
        "id": "DrXNHhF7_Y4X",
        "colab_type": "text"
      },
      "source": [
        "## Grid search to tune dropout regularization"
      ]
    },
    {
      "cell_type": "code",
      "metadata": {
        "id": "C3f6_v3XvtoU",
        "colab_type": "code",
        "colab": {}
      },
      "source": [
        "# Function to create model\n",
        "def create_model(dropout_rate=0.0, weight_constraint=0):\n",
        "\t\"\"\"\n",
        "  This function is from https://machinelearningmastery.com/grid-search-hyperparameters-deep-learning-models-python-keras/.\n",
        "  It creates and compiles a Keras model to grid search dropout regularization\n",
        "  \"\"\"\n",
        "\n",
        "  # Create model\n",
        "\tmodel = Sequential()\n",
        "\tmodel.add(Dense(32, activation='relu',kernel_initializer='he_normal',kernel_constraint=maxnorm(weight_constraint),input_shape=(input_dim,)))\n",
        "\tmodel.add(Dense(32,activation='relu', kernel_initializer = 'he_normal', kernel_constraint=maxnorm(weight_constraint)))\n",
        "\tmodel.add(Dropout(dropout_rate))\n",
        "\tmodel.add(Dense(1,kernel_initializer='he_normal',activation=\"sigmoid\",kernel_constraint=maxnorm(weight_constraint)))\n",
        "\t\n",
        "\t# Compile model\n",
        "\tmodel.compile(\n",
        "  optimizer = SGD(lr=0.2, momentum=0.4), \n",
        "\tloss='binary_crossentropy', \n",
        "\tmetrics=['accuracy']\n",
        "\t)\n",
        "\treturn model\n",
        "\n",
        "\n",
        "# Create model\n",
        "model = KerasClassifier(build_fn=create_model, epochs=100, batch_size=10, verbose=0)\n",
        "\n",
        "# Define the grid search parameters\n",
        "weight_constraint = [1, 2, 3, 4, 5]\n",
        "dropout_rate = [0.0, 0.1, 0.2, 0.3, 0.4, 0.5, 0.6, 0.7, 0.8, 0.9]\n",
        "param_grid = dict(dropout_rate=dropout_rate, weight_constraint=weight_constraint)\n",
        "grid = GridSearchCV(estimator=model, param_grid=param_grid, n_jobs=-1, cv=3)\n",
        "grid_result = grid.fit(train_val_data_n, train_val_label)\n",
        "\n",
        "# Summarize results\n",
        "print(\"Best: %f using %s\" % (grid_result.best_score_, grid_result.best_params_))\n",
        "means = grid_result.cv_results_['mean_test_score']\n",
        "stds = grid_result.cv_results_['std_test_score']\n",
        "params = grid_result.cv_results_['params']\n",
        "for mean, stdev, param in zip(means, stds, params):\n",
        "    print(\"%f (%f) with: %r\" % (mean, stdev, param))"
      ],
      "execution_count": 0,
      "outputs": []
    },
    {
      "cell_type": "markdown",
      "metadata": {
        "id": "NbrSwnytH9RE",
        "colab_type": "text"
      },
      "source": [
        "## L1 regularization\n",
        "\n"
      ]
    },
    {
      "cell_type": "code",
      "metadata": {
        "id": "cD_P0W72IA-0",
        "colab_type": "code",
        "colab": {}
      },
      "source": [
        "# Function to create model\n",
        "def create_model(reg_factor=0.01):\n",
        "  \"\"\"\n",
        "  This function is from https://machinelearningmastery.com/grid-search-hyperparameters-deep-learning-models-python-keras/.    \n",
        "  It creates and compiles a Keras model to grid search L1 regularization rates\n",
        "  \"\"\"\n",
        "  model = Sequential()\n",
        "  model.add(Dense(32, activation='relu', input_shape=(input_dim,),kernel_initializer='he_normal',kernel_constraint=maxnorm(3), kernel_regularizer=l1(reg_factor)))\n",
        "  model.add(Dense(32,activation=\"relu\",kernel_initializer='he_normal',kernel_constraint=maxnorm(3),kernel_regularizer=l1(reg_factor)))\n",
        "  model.add(Dropout(0.1))\n",
        "  model.add(Dense(1,activation=\"sigmoid\",kernel_initializer='he_normal',kernel_constraint=maxnorm(3),kernel_regularizer=l1(reg_factor)))\n",
        "\t\n",
        "# Compile model\n",
        "  model.compile(\n",
        "      optimizer = SGD(lr=0.2, momentum=0.4), \n",
        "      loss='binary_crossentropy', \n",
        "      metrics=['accuracy']\n",
        "      )\n",
        "  return model\n",
        "\n",
        "# create model\n",
        "model = KerasClassifier(build_fn=create_model, epochs=100, batch_size=10, verbose=1)\n",
        "\n",
        "# define the grid search parameters\n",
        "reg_factor = [0.001, 0.01, 0.1, 0.2, 0.3]\n",
        "param_grid = dict(reg_factor=reg_factor)\n",
        "grid = GridSearchCV(estimator=model, param_grid=param_grid, n_jobs=-1, cv=3)\n",
        "grid_result = grid.fit(train_val_data_n, train_val_label)\n",
        "\n",
        "# summarize results\n",
        "print(\"Best: %f using %s\" % (grid_result.best_score_, grid_result.best_params_))\n",
        "means = grid_result.cv_results_['mean_test_score']\n",
        "stds = grid_result.cv_results_['std_test_score']\n",
        "params = grid_result.cv_results_['params']\n",
        "for mean, stdev, param in zip(means, stds, params):\n",
        "    print(\"%f (%f) with: %r\" % (mean, stdev, param))"
      ],
      "execution_count": 0,
      "outputs": []
    },
    {
      "cell_type": "markdown",
      "metadata": {
        "id": "BXGpCf3kLrJN",
        "colab_type": "text"
      },
      "source": [
        "## L2 regularization"
      ]
    },
    {
      "cell_type": "code",
      "metadata": {
        "id": "6uL_81plLtiN",
        "colab_type": "code",
        "colab": {}
      },
      "source": [
        "# Function to create model\n",
        "def create_model(reg_factor=0.01):\n",
        "  \"\"\"\n",
        "  This function is from https://machinelearningmastery.com/grid-search-hyperparameters-deep-learning-models-python-keras/.\n",
        "  It creates and compiles a Keras model to grid search L2 regularization rates\n",
        "  \"\"\"\n",
        "  model = Sequential()\n",
        "  model.add(Dense(32, activation='relu', input_shape=(input_dim,),kernel_initializer='he_normal',kernel_constraint=maxnorm(3), kernel_regularizer=l2(reg_factor)))\n",
        "  model.add(Dense(32,activation=\"relu\",kernel_initializer='he_normal',kernel_constraint=maxnorm(3),kernel_regularizer=l2(reg_factor)))\n",
        "  model.add(Dropout(0.1))\n",
        "  model.add(Dense(1,activation=\"sigmoid\",kernel_initializer='he_normal',kernel_constraint=maxnorm(3),kernel_regularizer=l2(reg_factor)))\n",
        "\t\n",
        "# Compile model\n",
        "  model.compile(\n",
        "      optimizer = SGD(lr=0.2, momentum=0.4), \n",
        "      loss='binary_crossentropy', \n",
        "      metrics=['accuracy']\n",
        "      )\n",
        "  return model\n",
        "\n",
        "# Create model\n",
        "model = KerasClassifier(build_fn=create_model, epochs=100, batch_size=10, verbose=1)\n",
        "\n",
        "# Define the grid search parameters\n",
        "reg_factor = [0.001, 0.01, 0.1, 0.2, 0.3]\n",
        "param_grid = dict(reg_factor=reg_factor)\n",
        "grid = GridSearchCV(estimator=model, param_grid=param_grid, n_jobs=-1, cv=3)\n",
        "grid_result = grid.fit(train_val_data_n, train_val_label)\n",
        "\n",
        "# Summarize results\n",
        "print(\"Best: %f using %s\" % (grid_result.best_score_, grid_result.best_params_))\n",
        "means = grid_result.cv_results_['mean_test_score']\n",
        "stds = grid_result.cv_results_['std_test_score']\n",
        "params = grid_result.cv_results_['params']\n",
        "for mean, stdev, param in zip(means, stds, params):\n",
        "    print(\"%f (%f) with: %r\" % (mean, stdev, param))"
      ],
      "execution_count": 0,
      "outputs": []
    },
    {
      "cell_type": "markdown",
      "metadata": {
        "id": "ZoKtCgN__rRq",
        "colab_type": "text"
      },
      "source": [
        "## Gridsearch for number of neurons in the hidden layers"
      ]
    },
    {
      "cell_type": "code",
      "metadata": {
        "id": "V07x_P7a_uZx",
        "colab_type": "code",
        "colab": {}
      },
      "source": [
        "# Function to create model\n",
        "def create_model(neurons=1):\n",
        "\t\"\"\"\n",
        "  This function is from https://machinelearningmastery.com/grid-search-hyperparameters-deep-learning-models-python-keras/.\n",
        "  It creates and compiles a Keras model to grid search number of neurons in the hidden layers\n",
        "  \"\"\"\n",
        "\n",
        "  # Create model\n",
        "\tmodel = Sequential()\n",
        "\tmodel.add(Dense(neurons, activation='relu',kernel_initializer='he_normal',kernel_constraint=maxnorm(3),input_shape=(input_dim,)))\n",
        "\tmodel.add(Dense(neurons,activation=\"relu\", kernel_initializer = 'he_normal',kernel_constraint=maxnorm(3)))\n",
        "\tmodel.add(Dropout(0.1))\n",
        "\tmodel.add(Dense(1,kernel_initializer='he_normal',activation=\"sigmoid\",kernel_constraint=maxnorm(3)))\n",
        "\t\n",
        "\t# Compile model\n",
        "\tmodel.compile(\n",
        "  optimizer = SGD(lr=0.2, momentum=0.4), \n",
        "\tloss='binary_crossentropy', \n",
        "\tmetrics=['accuracy']\n",
        "\t)\n",
        "\treturn model\n",
        "\n",
        "# Create model\n",
        "model = KerasClassifier(build_fn=create_model, epochs=100, batch_size=10, verbose=0)\n",
        "\n",
        "# Define the grid search parameters\n",
        "neurons = [1, 5, 10, 15, 20, 25, 30, 32, 128]\n",
        "param_grid = dict(neurons=neurons)\n",
        "grid = GridSearchCV(estimator=model, param_grid=param_grid, n_jobs=-1, cv=3)\n",
        "grid_result = grid.fit(train_val_data_n, train_val_label)\n",
        "\n",
        "# Summarize results\n",
        "print(\"Best: %f using %s\" % (grid_result.best_score_, grid_result.best_params_))\n",
        "means = grid_result.cv_results_['mean_test_score']\n",
        "stds = grid_result.cv_results_['std_test_score']\n",
        "params = grid_result.cv_results_['params']\n",
        "for mean, stdev, param in zip(means, stds, params):\n",
        "    print(\"%f (%f) with: %r\" % (mean, stdev, param))"
      ],
      "execution_count": 0,
      "outputs": []
    },
    {
      "cell_type": "markdown",
      "metadata": {
        "id": "cl82lEl38P1K",
        "colab_type": "text"
      },
      "source": [
        "##Grid search for best optimization algortihm"
      ]
    },
    {
      "cell_type": "code",
      "metadata": {
        "id": "uCDvanIf8aYL",
        "colab_type": "code",
        "colab": {}
      },
      "source": [
        "# Function to create model\n",
        "def create_model(optimizer='adam'):\n",
        "\t\"\"\"\n",
        "  This function is from https://machinelearningmastery.com/grid-search-hyperparameters-deep-learning-models-python-keras/.\n",
        "  It creates and compiles a Keras model to grid search optimization algorithm\n",
        "  \"\"\"\n",
        "\n",
        "\t# Create model\n",
        "\tmodel = Sequential()\n",
        "\tmodel.add(Dense(30, activation='relu',kernel_initializer='he_normal',kernel_constraint=maxnorm(3),input_shape=(input_dim,)))\n",
        "\tmodel.add(Dense(30,activation=\"relu\", kernel_initializer = 'he_normal',kernel_constraint=maxnorm(3)))\n",
        "\tmodel.add(Dropout(0.1))\n",
        "\tmodel.add(Dense(1,kernel_initializer='he_normal',kernel_constraint=maxnorm(3),activation=\"sigmoid\"))\n",
        "\t\n",
        "\t# Compile model\n",
        "\tmodel.compile(\n",
        "  optimizer = optimizer, \n",
        "\tloss='binary_crossentropy', \n",
        "\tmetrics=['accuracy']\n",
        "\t)\n",
        "\treturn model\n",
        "\n",
        "# Create model\n",
        "model = KerasClassifier(build_fn=create_model, epochs=100, batch_size=10, verbose=1)\n",
        "\n",
        "# Define the grid search parameters\n",
        "optimizer = ['RMSprop', 'Adagrad', 'Adadelta', 'Adam', 'Adamax', 'Nadam',SGD(learning_rate=0.2,momentum = 0.4)]\n",
        "param_grid = dict(optimizer=optimizer)\n",
        "grid = GridSearchCV(estimator=model, param_grid=param_grid, n_jobs=-1, cv=3)\n",
        "grid_result = grid.fit(train_val_data_n, train_val_label)\n",
        "\n",
        "# Summarize results\n",
        "print(\"Best: %f using %s\" % (grid_result.best_score_, grid_result.best_params_))\n",
        "means = grid_result.cv_results_['mean_test_score']\n",
        "stds = grid_result.cv_results_['std_test_score']\n",
        "params = grid_result.cv_results_['params']\n",
        "for mean, stdev, param in zip(means, stds, params):\n",
        "    print(\"%f (%f) with: %r\" % (mean, stdev, param))\n"
      ],
      "execution_count": 0,
      "outputs": []
    },
    {
      "cell_type": "markdown",
      "metadata": {
        "id": "n27jYDsGEOlg",
        "colab_type": "text"
      },
      "source": [
        "## Add extra dense layer"
      ]
    },
    {
      "cell_type": "code",
      "metadata": {
        "id": "g4DLMizLERQX",
        "colab_type": "code",
        "colab": {}
      },
      "source": [
        "batch_size = 10\n",
        "epochs = 100\n",
        "\n",
        "# Initiate the model \n",
        "model = Sequential()\n",
        "model.add(Dense(30, activation='relu',kernel_initializer='he_normal',kernel_constraint=maxnorm(3),input_shape=(input_dim,)))\n",
        "model.add(Dense(30,activation=\"relu\", kernel_initializer = 'he_normal',kernel_constraint=maxnorm(3))) # Extra layer\n",
        "model.add(Dense(30,activation=\"relu\", kernel_initializer = 'he_normal',kernel_constraint=maxnorm(3)))\n",
        "model.add(Dropout(0.1))\n",
        "model.add(Dense(1,kernel_initializer='glorot_uniform',kernel_constraint=maxnorm(3),activation=\"sigmoid\"))\n",
        "\n",
        "model.compile(\n",
        "optimizer = 'adamax', \n",
        "loss='binary_crossentropy', \n",
        "metrics=['accuracy']\n",
        ")\n",
        "\n",
        "model.summary()\n",
        "\n",
        "# Fit the model\n",
        "model.fit(train_data_n, train_label,\n",
        "          batch_size=batch_size,\n",
        "          epochs=epochs,\n",
        "          verbose=1,\n",
        "          validation_data=(val_data_n, val_label),\n",
        "          #callbacks = [plot_losses])\n",
        "\n",
        "score = model.evaluate(val_data_n, val_label, verbose=1)\n",
        "\n",
        "print(score)\n"
      ],
      "execution_count": 0,
      "outputs": []
    },
    {
      "cell_type": "markdown",
      "metadata": {
        "id": "poY7dVfcTH-S",
        "colab_type": "text"
      },
      "source": [
        "## Add extra dropout layer"
      ]
    },
    {
      "cell_type": "code",
      "metadata": {
        "id": "DfxK7nVETS5T",
        "colab_type": "code",
        "colab": {}
      },
      "source": [
        "batch_size = 10\n",
        "epochs = 100\n",
        "\n",
        "# Initiate the model \n",
        "model = Sequential()\n",
        "model.add(Dense(30, activation='relu',kernel_initializer='he_normal',kernel_constraint=maxnorm(3),input_shape=(input_dim,)))\n",
        "model.add(Dropout(0.1)) # Extra dropout\n",
        "model.add(Dense(30,activation=\"relu\", kernel_initializer = 'he_normal',kernel_constraint=maxnorm(3)))\n",
        "model.add(Dropout(0.1))\n",
        "model.add(Dense(1,kernel_initializer='glorot_uniform',kernel_constraint=maxnorm(3),activation=\"sigmoid\"))\n",
        "\n",
        "model.compile(\n",
        "optimizer = 'adamax', \n",
        "loss='binary_crossentropy', \n",
        "metrics=['accuracy']\n",
        ")\n",
        "\n",
        "model.summary()\n",
        "\n",
        "# Fit the model\n",
        "model.fit(train_data_n, train_label,\n",
        "          batch_size=batch_size,\n",
        "          epochs=epochs,\n",
        "          verbose=1,\n",
        "          validation_data=(val_data_n, val_label))\n",
        "\n",
        "score = model.evaluate(val_data_n, val_label, verbose=1)\n",
        "\n",
        "print(score)\n"
      ],
      "execution_count": 0,
      "outputs": []
    },
    {
      "cell_type": "markdown",
      "metadata": {
        "id": "4XaYhc4VHO5q",
        "colab_type": "text"
      },
      "source": [
        "## Final model"
      ]
    },
    {
      "cell_type": "code",
      "metadata": {
        "id": "Zv3Y8duFzTdw",
        "colab_type": "code",
        "outputId": "3a8e1fd9-a27b-496c-cfd4-fad5c09647f6",
        "colab": {
          "base_uri": "https://localhost:8080/",
          "height": 1000
        }
      },
      "source": [
        "batch_size = 10\n",
        "epochs = 100\n",
        "\n",
        "# Input dimensions for first layer\n",
        "input_dim = len(train_data.axes[1])\n",
        "print(input_dim)\n",
        "\n",
        "scores = []\n",
        "train_a = DataFrame()\n",
        "val_a = DataFrame()\n",
        "train_l = DataFrame()\n",
        "val_l = DataFrame()\n",
        "\n",
        "for i in range(100):\n",
        "\n",
        "  # Initiate the model \n",
        "  model = Sequential()\n",
        "  model.add(Dense(30, activation='relu', input_shape=(input_dim,))) # dense input layer with 32 output nodes from the layer, relu activation and 30 input nodes\n",
        "  model.add(Dense(30,activation=\"relu\"))\n",
        "  model.add(Dropout(0.1))\n",
        "  model.add(Dense(1,activation=\"sigmoid\"))\n",
        "\n",
        "  # Using adamax as optimizer and binary_crossentropy as loss function\n",
        "  model.compile(\n",
        "    optimizer='adamax',\n",
        "    loss='binary_crossentropy',\n",
        "    metrics=['accuracy']\n",
        "  )\n",
        "\n",
        "  # Fit the model on training data and test it on validation data\n",
        "  model_fit = model.fit(train_data_n, train_label,\n",
        "            batch_size=batch_size,\n",
        "            epochs=epochs,\n",
        "            verbose=0,\n",
        "            validation_data=(val_data_n, val_label))\n",
        "  score = model.evaluate(test_data_n, test_label, verbose=1)\n",
        "\n",
        "  # store history\n",
        "  train_a[str(i)] = model_fit.history['accuracy']\n",
        "  val_a[str(i)] = model_fit.history['val_accuracy']\n",
        "  train_l[str(i)] = model_fit.history['loss']\n",
        "  val_l[str(i)] = model_fit.history['val_loss']\n",
        "\n",
        "  print(score)\n",
        "  scores.append(score)\n",
        "\n",
        "\n",
        "plot_model(model, to_file='model_plot.png',show_shapes=True,show_layer_names=True)\n",
        "\n",
        "# plot train and validation accuracy and loss across multiple runs\n",
        "plt.plot(train_a, color='blue', label='train')\n",
        "plt.plot(val_a, color='orange', label='validation')\n",
        "plt.title('model train vs validation accuracy')\n",
        "plt.ylabel('accuracy')\n",
        "plt.xlabel('epoch')\n",
        "plt.show()\n",
        "\n",
        "plt.plot(train_l, color='blue', label='train')\n",
        "plt.plot(val_l, color='orange', label='validation')\n",
        "plt.title('model train vs validation loss')\n",
        "plt.ylabel('loss')\n",
        "plt.xlabel('epoch')\n",
        "plt.show()"
      ],
      "execution_count": 0,
      "outputs": [
        {
          "output_type": "stream",
          "text": [
            "30\n",
            "86/86 [==============================] - 0s 62us/step\n",
            "[0.12449005107546962, 0.9767441749572754]\n",
            "86/86 [==============================] - 0s 81us/step\n",
            "[0.1583005480988081, 0.9651162624359131]\n",
            "86/86 [==============================] - 0s 34us/step\n",
            "[0.1697741622148558, 0.9651162624359131]\n",
            "86/86 [==============================] - 0s 39us/step\n",
            "[0.1913691107616868, 0.9651162624359131]\n",
            "86/86 [==============================] - 0s 68us/step\n",
            "[0.1962908520254978, 0.9767441749572754]\n",
            "86/86 [==============================] - 0s 47us/step\n",
            "[0.16532668575297954, 0.9651162624359131]\n",
            "86/86 [==============================] - 0s 70us/step\n",
            "[0.15286981297093769, 0.9767441749572754]\n",
            "86/86 [==============================] - 0s 36us/step\n",
            "[0.17127164990402932, 0.9767441749572754]\n",
            "86/86 [==============================] - 0s 36us/step\n",
            "[0.13920273337253306, 0.9883720874786377]\n",
            "86/86 [==============================] - 0s 36us/step\n",
            "[0.19037134564200112, 0.9651162624359131]\n",
            "86/86 [==============================] - 0s 34us/step\n",
            "[0.14689116075981495, 0.9651162624359131]\n",
            "86/86 [==============================] - 0s 36us/step\n",
            "[0.1574283360048782, 0.9767441749572754]\n",
            "86/86 [==============================] - 0s 34us/step\n",
            "[0.13129826548487641, 0.9767441749572754]\n",
            "86/86 [==============================] - 0s 34us/step\n",
            "[0.18915489766486857, 0.9651162624359131]\n",
            "86/86 [==============================] - 0s 36us/step\n",
            "[0.17329676553260448, 0.9651162624359131]\n",
            "86/86 [==============================] - 0s 35us/step\n",
            "[0.22359803942746895, 0.9534883499145508]\n",
            "86/86 [==============================] - 0s 34us/step\n",
            "[0.15537801662156747, 0.9767441749572754]\n",
            "86/86 [==============================] - 0s 32us/step\n",
            "[0.17958291186842806, 0.9534883499145508]\n",
            "86/86 [==============================] - 0s 35us/step\n",
            "[0.1451980312203252, 0.9651162624359131]\n",
            "86/86 [==============================] - 0s 35us/step\n",
            "[0.16664005781328955, 0.9767441749572754]\n",
            "86/86 [==============================] - 0s 35us/step\n",
            "[0.21545028547907985, 0.9534883499145508]\n",
            "86/86 [==============================] - 0s 35us/step\n",
            "[0.16772057116031647, 0.9651162624359131]\n",
            "86/86 [==============================] - 0s 35us/step\n",
            "[0.2144879185876181, 0.9651162624359131]\n",
            "86/86 [==============================] - 0s 33us/step\n",
            "[0.1929453491818073, 0.9534883499145508]\n",
            "86/86 [==============================] - 0s 33us/step\n",
            "[0.2176257898641187, 0.9534883499145508]\n",
            "86/86 [==============================] - 0s 46us/step\n",
            "[0.1445552696322286, 0.9767441749572754]\n",
            "86/86 [==============================] - 0s 35us/step\n",
            "[0.22783210388449734, 0.9534883499145508]\n",
            "86/86 [==============================] - 0s 34us/step\n",
            "[0.15414654307587203, 0.9767441749572754]\n",
            "86/86 [==============================] - 0s 66us/step\n",
            "[0.13519706291168235, 0.9767441749572754]\n",
            "86/86 [==============================] - 0s 37us/step\n",
            "[0.1546894277251044, 0.9651162624359131]\n",
            "86/86 [==============================] - 0s 47us/step\n",
            "[0.14693012279133463, 0.9651162624359131]\n",
            "86/86 [==============================] - 0s 69us/step\n",
            "[0.1552062894022742, 0.9767441749572754]\n",
            "86/86 [==============================] - 0s 36us/step\n",
            "[0.19826099207234937, 0.9534883499145508]\n",
            "86/86 [==============================] - 0s 35us/step\n",
            "[0.16595937831457272, 0.9651162624359131]\n",
            "86/86 [==============================] - 0s 47us/step\n",
            "[0.20859455092008725, 0.9534883499145508]\n",
            "86/86 [==============================] - 0s 47us/step\n",
            "[0.15737597263136574, 0.9651162624359131]\n",
            "86/86 [==============================] - 0s 34us/step\n",
            "[0.14726753117040145, 0.9767441749572754]\n",
            "86/86 [==============================] - 0s 36us/step\n",
            "[0.15906739581462948, 0.9651162624359131]\n",
            "86/86 [==============================] - 0s 73us/step\n",
            "[0.14307015059992326, 0.9767441749572754]\n",
            "86/86 [==============================] - 0s 35us/step\n",
            "[0.14271038285521573, 0.9651162624359131]\n",
            "86/86 [==============================] - 0s 36us/step\n",
            "[0.19526288918284482, 0.9651162624359131]\n",
            "86/86 [==============================] - 0s 35us/step\n",
            "[0.2188029691230419, 0.9534883499145508]\n",
            "86/86 [==============================] - 0s 44us/step\n",
            "[0.16471955180168152, 0.9883720874786377]\n",
            "86/86 [==============================] - 0s 35us/step\n",
            "[0.1704976475516031, 0.9534883499145508]\n",
            "86/86 [==============================] - 0s 35us/step\n",
            "[0.18466439427331435, 0.9651162624359131]\n",
            "86/86 [==============================] - 0s 35us/step\n",
            "[0.14242731554563656, 0.9767441749572754]\n",
            "86/86 [==============================] - 0s 35us/step\n",
            "[0.14067823249240255, 0.9651162624359131]\n",
            "86/86 [==============================] - 0s 34us/step\n",
            "[0.20882547733395598, 0.9651162624359131]\n",
            "86/86 [==============================] - 0s 45us/step\n",
            "[0.15030103436736172, 0.9651162624359131]\n",
            "86/86 [==============================] - 0s 35us/step\n",
            "[0.14561485551124395, 0.9651162624359131]\n",
            "86/86 [==============================] - 0s 35us/step\n",
            "[0.16942668376966966, 0.9651162624359131]\n",
            "86/86 [==============================] - 0s 84us/step\n",
            "[0.14660509589106538, 0.9651162624359131]\n",
            "86/86 [==============================] - 0s 35us/step\n",
            "[0.1273758927750033, 0.9767441749572754]\n",
            "86/86 [==============================] - 0s 32us/step\n",
            "[0.15352243531581966, 0.9534883499145508]\n",
            "86/86 [==============================] - 0s 35us/step\n",
            "[0.12357950695725374, 0.9651162624359131]\n",
            "86/86 [==============================] - 0s 35us/step\n",
            "[0.19943550714226657, 0.9651162624359131]\n",
            "86/86 [==============================] - 0s 108us/step\n",
            "[0.20382925382880276, 0.9651162624359131]\n",
            "86/86 [==============================] - 0s 35us/step\n",
            "[0.16086857471355173, 0.9651162624359131]\n",
            "86/86 [==============================] - 0s 46us/step\n",
            "[0.22078619585480802, 0.9651162624359131]\n",
            "86/86 [==============================] - 0s 74us/step\n",
            "[0.16791102697336396, 0.9883720874786377]\n",
            "86/86 [==============================] - 0s 35us/step\n",
            "[0.1598700125550115, 0.9651162624359131]\n",
            "86/86 [==============================] - 0s 70us/step\n",
            "[0.15380709289118302, 0.9651162624359131]\n",
            "86/86 [==============================] - 0s 37us/step\n",
            "[0.18826988131500955, 0.9651162624359131]\n",
            "86/86 [==============================] - 0s 72us/step\n",
            "[0.16448939574319263, 0.9767441749572754]\n",
            "86/86 [==============================] - 0s 53us/step\n",
            "[0.18378224760987039, 0.9651162624359131]\n",
            "86/86 [==============================] - 0s 67us/step\n",
            "[0.1690041720867157, 0.9651162624359131]\n",
            "86/86 [==============================] - 0s 37us/step\n",
            "[0.1670504697533541, 0.9767441749572754]\n",
            "86/86 [==============================] - 0s 35us/step\n",
            "[0.17603125752404677, 0.9651162624359131]\n",
            "86/86 [==============================] - 0s 35us/step\n",
            "[0.15095306413118229, 0.9651162624359131]\n",
            "86/86 [==============================] - 0s 36us/step\n",
            "[0.1666009006805198, 0.9767441749572754]\n",
            "86/86 [==============================] - 0s 32us/step\n",
            "[0.11053197553684545, 0.9767441749572754]\n",
            "86/86 [==============================] - 0s 35us/step\n",
            "[0.14906174152396445, 0.9767441749572754]\n",
            "86/86 [==============================] - 0s 35us/step\n",
            "[0.20821973196295804, 0.9651162624359131]\n",
            "86/86 [==============================] - 0s 36us/step\n",
            "[0.1251788603705029, 0.9767441749572754]\n",
            "86/86 [==============================] - 0s 35us/step\n",
            "[0.17557172303976015, 0.9651162624359131]\n",
            "86/86 [==============================] - 0s 35us/step\n",
            "[0.17073137954223988, 0.9651162624359131]\n",
            "86/86 [==============================] - 0s 36us/step\n",
            "[0.14361842167238856, 0.9767441749572754]\n",
            "86/86 [==============================] - 0s 43us/step\n",
            "[0.19513176624165024, 0.9767441749572754]\n",
            "86/86 [==============================] - 0s 36us/step\n",
            "[0.20092766229496445, 0.9534883499145508]\n",
            "86/86 [==============================] - 0s 37us/step\n",
            "[0.14126088452893634, 0.9883720874786377]\n",
            "86/86 [==============================] - 0s 78us/step\n",
            "[0.17461729136317275, 0.9767441749572754]\n",
            "86/86 [==============================] - 0s 38us/step\n",
            "[0.14159451321113942, 0.9651162624359131]\n",
            "86/86 [==============================] - 0s 35us/step\n",
            "[0.17718849556390628, 0.9651162624359131]\n",
            "86/86 [==============================] - 0s 74us/step\n",
            "[0.19461770944817122, 0.9651162624359131]\n",
            "86/86 [==============================] - 0s 37us/step\n",
            "[0.12470435472421867, 0.9883720874786377]\n",
            "86/86 [==============================] - 0s 36us/step\n",
            "[0.18529405011687167, 0.9651162624359131]\n",
            "86/86 [==============================] - 0s 42us/step\n",
            "[0.17020743946696437, 0.9651162624359131]\n",
            "86/86 [==============================] - 0s 35us/step\n",
            "[0.13831335236859876, 0.9767441749572754]\n",
            "86/86 [==============================] - 0s 78us/step\n",
            "[0.1679379565771236, 0.9767441749572754]\n",
            "86/86 [==============================] - 0s 39us/step\n",
            "[0.2056793210118316, 0.9534883499145508]\n",
            "86/86 [==============================] - 0s 35us/step\n",
            "[0.17824445833820243, 0.9767441749572754]\n",
            "86/86 [==============================] - 0s 37us/step\n",
            "[0.15220137945441312, 0.9767441749572754]\n",
            "86/86 [==============================] - 0s 33us/step\n",
            "[0.1833265312882357, 0.9534883499145508]\n",
            "86/86 [==============================] - 0s 32us/step\n",
            "[0.19394919059650842, 0.9767441749572754]\n",
            "86/86 [==============================] - 0s 34us/step\n",
            "[0.13681074803651766, 0.9883720874786377]\n",
            "86/86 [==============================] - 0s 77us/step\n",
            "[0.17877668280934178, 0.9767441749572754]\n",
            "86/86 [==============================] - 0s 33us/step\n",
            "[0.18331308004467986, 0.9651162624359131]\n",
            "86/86 [==============================] - 0s 36us/step\n",
            "[0.16680482584376669, 0.9767441749572754]\n",
            "86/86 [==============================] - 0s 35us/step\n",
            "[0.2173812139865964, 0.9534883499145508]\n",
            "86/86 [==============================] - 0s 33us/step\n",
            "[0.1886006787765858, 0.9534883499145508]\n"
          ],
          "name": "stdout"
        },
        {
          "output_type": "display_data",
          "data": {
            "image/png": "[encoded data removed]",
            "text/plain": [
              "<Figure size 432x288 with 1 Axes>"
            ]
          },
          "metadata": {
            "tags": [],
            "needs_background": "light"
          }
        },
        {
          "output_type": "display_data",
          "data": {
            "image/png": "[encoded data removed]",
            "text/plain": [
              "<Figure size 432x288 with 1 Axes>"
            ]
          },
          "metadata": {
            "tags": [],
            "needs_background": "light"
          }
        }
      ]
    },
    {
      "cell_type": "code",
      "metadata": {
        "id": "n0pRqgmsz7W2",
        "colab_type": "code",
        "outputId": "c819975b-d870-49b0-a7c9-534546f1aa7c",
        "colab": {
          "base_uri": "https://localhost:8080/",
          "height": 85
        }
      },
      "source": [
        "# Print accuracies and losses\n",
        "accuracies = []\n",
        "for i in range(len(scores)):\n",
        "  accuracies.append(scores[i][1])\n",
        "\n",
        "losses = []\n",
        "for i in range(len(scores)):\n",
        "  losses.append(scores[i][0])\n",
        "\n",
        "print(\"mean accuracy: \" + str(np.mean(accuracies)))\n",
        "print(\"SD accuracy: \" + str(np.std(accuracies)))\n",
        "print(\"mean loss: \" + str(np.mean(losses)))\n",
        "print(\"SD loss: \" + str(np.std(losses)))"
      ],
      "execution_count": 0,
      "outputs": [
        {
          "output_type": "stream",
          "text": [
            "mean accuracy: 0.9683720779418945\n",
            "SD accuracy: 0.009313950671236018\n",
            "mean loss: 0.16931616976727226\n",
            "SD loss: 0.026292620556863815\n"
          ],
          "name": "stdout"
        }
      ]
    },
    {
      "cell_type": "markdown",
      "metadata": {
        "id": "0uTYmrAk4Ud1",
        "colab_type": "text"
      },
      "source": [
        "## Run only 40 epochs"
      ]
    },
    {
      "cell_type": "code",
      "metadata": {
        "id": "5CWkMlMO4Wwu",
        "colab_type": "code",
        "outputId": "6ff97d08-14a4-4ace-cd6d-529e9d907098",
        "colab": {
          "base_uri": "https://localhost:8080/",
          "height": 624
        }
      },
      "source": [
        "batch_size = 10\n",
        "epochs = 40\n",
        "\n",
        "# Input dimensions for first layer\n",
        "input_dim = len(train_data.axes[1])\n",
        "print(input_dim)\n",
        "\n",
        "scores = []\n",
        "train_a = DataFrame()\n",
        "val_a = DataFrame()\n",
        "train_l = DataFrame()\n",
        "val_l = DataFrame()\n",
        "\n",
        "for i in range(100):\n",
        "\n",
        "  # Initiate the model \n",
        "  model = Sequential()\n",
        "  model.add(Dense(30, activation='relu', input_shape=(input_dim,))) # dense input layer with 32 output nodes from the layer, relu activation and 30 input nodes\n",
        "  model.add(Dense(30,activation=\"relu\"))\n",
        "  model.add(Dropout(0.1))\n",
        "  model.add(Dense(1,activation=\"sigmoid\"))\n",
        "\n",
        "  # Using adamax as optimizer and binary_crossentropy as loss function\n",
        "  model.compile(\n",
        "    optimizer='adamax',\n",
        "    loss='binary_crossentropy',\n",
        "    metrics=['accuracy']\n",
        "  )\n",
        "\n",
        "  # Fit the model on training data and test it on validation data\n",
        "  model_fit = model.fit(train_data_n, train_label,\n",
        "            batch_size=batch_size,\n",
        "            epochs=epochs,\n",
        "            verbose=0,\n",
        "            validation_data=(val_data_n, val_label))\n",
        "  score = model.evaluate(test_data_n, test_label, verbose=1)\n",
        "\n",
        "  # store history\n",
        "  train_a[str(i)] = model_fit.history['accuracy']\n",
        "  val_a[str(i)] = model_fit.history['val_accuracy']\n",
        "  train_l[str(i)] = model_fit.history['loss']\n",
        "  val_l[str(i)] = model_fit.history['val_loss']\n",
        "\n",
        "  print(score)\n",
        "  scores.append(score)\n",
        "\n",
        "\n",
        "plot_model(model, to_file='model_plot.png',show_shapes=True,show_layer_names=True)\n",
        "\n",
        "# plot train and validation accuracy and loss across multiple runs\n",
        "plt.plot(train_a, color='blue', label='train')\n",
        "plt.plot(val_a, color='orange', label='validation')\n",
        "plt.title('model train vs validation accuracy')\n",
        "plt.ylabel('accuracy')\n",
        "plt.xlabel('epoch')\n",
        "plt.show()\n",
        "\n",
        "plt.plot(train_l, color='blue', label='train')\n",
        "plt.plot(val_l, color='orange', label='validation')\n",
        "plt.title('model train vs validation loss')\n",
        "plt.ylabel('loss')\n",
        "plt.xlabel('epoch')\n",
        "plt.show()\n"
      ],
      "execution_count": 0,
      "outputs": [
        {
          "output_type": "stream",
          "text": [
            "30\n",
            "86/86 [==============================] - 0s 39us/step\n",
            "[0.09446442612381868, 0.9767441749572754]\n"
          ],
          "name": "stdout"
        },
        {
          "output_type": "display_data",
          "data": {
            "image/png": "[encoded data removed]",
            "text/plain": [
              "<Figure size 432x288 with 1 Axes>"
            ]
          },
          "metadata": {
            "tags": [],
            "needs_background": "light"
          }
        },
        {
          "output_type": "display_data",
          "data": {
            "image/png": "[encoded data removed]",
            "text/plain": [
              "<Figure size 432x288 with 1 Axes>"
            ]
          },
          "metadata": {
            "tags": [],
            "needs_background": "light"
          }
        }
      ]
    },
    {
      "cell_type": "code",
      "metadata": {
        "id": "ni67feEBoCBc",
        "colab_type": "code",
        "outputId": "5be8ffd0-8dab-48a8-ec36-7d05bcde6db0",
        "colab": {
          "base_uri": "https://localhost:8080/",
          "height": 533
        }
      },
      "source": [
        "plot_model(model, to_file='model_plot.png',show_shapes=True,show_layer_names=True)"
      ],
      "execution_count": 0,
      "outputs": [
        {
          "output_type": "execute_result",
          "data": {
            "image/png": "[encoded data removed]",
            "text/plain": [
              "<IPython.core.display.Image object>"
            ]
          },
          "metadata": {
            "tags": []
          },
          "execution_count": 19
        }
      ]
    },
    {
      "cell_type": "code",
      "metadata": {
        "colab_type": "code",
        "outputId": "985ddcae-2306-4c63-a4ef-ad958d9ad560",
        "id": "lNWqm2bA7s4C",
        "colab": {
          "base_uri": "https://localhost:8080/",
          "height": 85
        }
      },
      "source": [
        "# Print accuracies and losses\n",
        "accuracies = []\n",
        "for i in range(len(scores)):\n",
        "  accuracies.append(scores[i][1])\n",
        "\n",
        "losses = []\n",
        "for i in range(len(scores)):\n",
        "  losses.append(scores[i][0])\n",
        "\n",
        "print(\"mean accuracy: \" + str(np.mean(accuracies)))\n",
        "print(\"SD accuracy: \" + str(np.std(accuracies)))\n",
        "print(\"mean loss: \" + str(np.mean(losses)))\n",
        "print(\"SD loss: \" + str(np.std(losses)))"
      ],
      "execution_count": 0,
      "outputs": [
        {
          "output_type": "stream",
          "text": [
            "mean accuracy: 0.9722092890739441\n",
            "SD accuracy: 0.005905102316047433\n",
            "mean loss: 0.09899687923317729\n",
            "SD loss: 0.009967255238944704\n"
          ],
          "name": "stdout"
        }
      ]
    },
    {
      "cell_type": "code",
      "metadata": {
        "colab_type": "code",
        "outputId": "93883173-e5fa-4b8c-ea36-856d9b08b89c",
        "id": "N4PAZI728RJ9",
        "colab": {
          "base_uri": "https://localhost:8080/",
          "height": 362
        }
      },
      "source": [
        "# Get predictions from model\n",
        "rounded_predictions = model.predict_classes(x=test_data_n, batch_size=10, verbose=0)\n",
        "\n",
        "# Create confusion matrix\n",
        "cm = confusion_matrix(y_true=test_label, y_pred=rounded_predictions)\n",
        "\n",
        "# Function to plot the confusion matrix\n",
        "def plot_confusion_matrix(cm, classes,\n",
        "    normalize=False,\n",
        "    title='Confusion matrix',\n",
        "    cmap=plt.cm.Blues):\n",
        "    \"\"\"\n",
        "    This function is from https://deeplizard.com/learn/video/km7pxKy4UHU\n",
        "    It prints and plots the confusion matrix.\n",
        "    \"\"\"\n",
        "    plt.imshow(cm, interpolation='nearest', cmap=cmap)\n",
        "    plt.title(title)\n",
        "    plt.colorbar()\n",
        "    tick_marks = np.arange(len(classes))\n",
        "    plt.xticks(tick_marks, classes, rotation=45)\n",
        "    plt.yticks(tick_marks, classes)\n",
        "\n",
        "    if normalize:\n",
        "        cm = cm.astype('float') / cm.sum(axis=1)[:, np.newaxis]\n",
        "        print(\"Normalized confusion matrix\")\n",
        "    else:\n",
        "        print('Confusion matrix, without normalization')\n",
        "\n",
        "    print(cm)\n",
        "\n",
        "    thresh = cm.max() / 2.\n",
        "    for i, j in itertools.product(range(cm.shape[0]), range(cm.shape[1])):\n",
        "        plt.text(j, i, cm[i, j],\n",
        "                 horizontalalignment=\"center\",\n",
        "                 color=\"white\" if cm[i, j] > thresh else \"black\")\n",
        "\n",
        "    plt.tight_layout()\n",
        "    plt.ylabel('True label')\n",
        "    plt.xlabel('Predicted label')\n",
        "\n",
        "cm_plot_labels = ['no_cancer','cancer']\n",
        "\n",
        "plot_confusion_matrix(cm=cm, classes=cm_plot_labels, title='Confusion Matrix, fully-connected network')"
      ],
      "execution_count": 0,
      "outputs": [
        {
          "output_type": "stream",
          "text": [
            "Confusion matrix, without normalization\n",
            "[[34  2]\n",
            " [ 0 50]]\n"
          ],
          "name": "stdout"
        },
        {
          "output_type": "display_data",
          "data": {
            "image/png": "[encoded data removed]",
            "text/plain": [
              "<Figure size 432x288 with 2 Axes>"
            ]
          },
          "metadata": {
            "tags": [],
            "needs_background": "light"
          }
        }
      ]
    }
  ]
}